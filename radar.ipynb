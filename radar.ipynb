{
 "cells": [
  {
   "cell_type": "code",
   "execution_count": null,
   "id": "7b48f641-197b-4d79-9e79-b096e1afbd1b",
   "metadata": {},
   "outputs": [],
   "source": [
    "from tools.core_table import core_perf\n",
    "from tools.intra_node import intra_node_perf\n",
    "from tools.summary_radar import summary"
   ]
  },
  {
   "cell_type": "markdown",
   "id": "e7ff6969-3190-4cf5-ac21-dd458c76d4e1",
   "metadata": {
    "jp-MarkdownHeadingCollapsed": true
   },
   "source": [
    "## Metrics"
   ]
  },
  {
   "cell_type": "code",
   "execution_count": null,
   "id": "221bb3df-9f3f-4249-aa73-fa29396a6bee",
   "metadata": {},
   "outputs": [],
   "source": [
    "# define rubric proportions\n",
    "core_proportion = None\n",
    "intraNode_proportion = None\n",
    "interNode_proportion = 0.8\n",
    "IO_proportion = 0.4\n",
    "GPU_porporion = 0.7"
   ]
  },
  {
   "cell_type": "markdown",
   "id": "14b1755c-4bf1-4239-a2c0-77c2a4d3ee3f",
   "metadata": {},
   "source": [
    "## Core\n",
    "For a high-level core analysis we just want measurements for a serial code:\n",
    "\n",
    "1. Target peak FLOPS (Mflops/s)\n",
    "2. Measured average peak FLOPS (Mflops/s)\n",
    "3. Target memory bandwidth (MByte/s)\n",
    "4. Measured average memory bandwidth (MByte/s)\n",
    "\n",
    "**FLOPS** \\\n",
    "To measure these we use LIKWID, i.e., for FLOPS we use\n",
    "```bash\n",
    "likwid-bench -t peakflops -W S0:16kB:1\n",
    "likwid-perfctr -f -C 0 -g FLOPS_DP ./clover_leaf\n",
    "```\n",
    "in which the input data for the `peakflops` microbenchmark is half the L1 cache. \n",
    "\n",
    "**Memory Bandwidth** \\\n",
    "For memory bandwidth we use\n",
    "```bash\n",
    "likwid-bench -t triad -W S0:8GB:1\n",
    "likwid-perfctr -f -C 0 -g MEM ./clover_leaf\n",
    "```\n",
    "Now input your measured values in the cell below:"
   ]
  },
  {
   "cell_type": "code",
   "execution_count": null,
   "id": "9ca6a9f9-5046-45d1-b590-ea3abf613f4d",
   "metadata": {},
   "outputs": [],
   "source": [
    "# Target peak per core (Mflops/s)\n",
    "peak_perf_single_core = 7255.60\n",
    "# Measured average application peak (Mflops/s)\n",
    "measured_average_perf = 241.1913\n",
    "\n",
    "# Target bandwidth per core (MB/s)\n",
    "target_bw_per_core = 19506.62\n",
    "# Measured average bandwidth requirements (MB/s)\n",
    "measured_avg_bw_requirements = 18017.7017"
   ]
  },
  {
   "cell_type": "markdown",
   "id": "f314f4ab-e26b-4b30-8c49-1776c5751fe7",
   "metadata": {},
   "source": [
    "We read these values into our `core_perf` class"
   ]
  },
  {
   "cell_type": "code",
   "execution_count": null,
   "id": "4ddc6566-8363-478f-81f1-19a61f1971e4",
   "metadata": {},
   "outputs": [],
   "source": [
    "core_perf_statistics = core_perf(peak_perf_single_core,\n",
    "                                 measured_average_perf,\n",
    "                                 target_bw_per_core,\n",
    "                                 measured_avg_bw_requirements)"
   ]
  },
  {
   "cell_type": "markdown",
   "id": "d07a96f3-d718-4f45-9a50-8ee2b6104a98",
   "metadata": {},
   "source": [
    "Generate the **core performance** table below"
   ]
  },
  {
   "cell_type": "code",
   "execution_count": null,
   "id": "1e4e0ebb-d5e5-47b3-93ec-da137a42ad18",
   "metadata": {},
   "outputs": [],
   "source": [
    "core_perf_statistics.core_perf_table()"
   ]
  },
  {
   "cell_type": "markdown",
   "id": "bc68e7ed-7492-46fd-8725-03aca97ace8e",
   "metadata": {},
   "source": [
    "## Intra-node"
   ]
  },
  {
   "cell_type": "code",
   "execution_count": null,
   "id": "92695b5d-c3ec-48d1-934a-f3688244f006",
   "metadata": {},
   "outputs": [],
   "source": [
    "# Enter serial performance time (s)\n",
    "serial_time = 162.22\n",
    "\n",
    "# enter number of cores in each trial\n",
    "number_of_cores = [1, 2, 3, 4, 6, 8, 12, 16]\n",
    "\n",
    "# Enter time for each number of cores (s)\n",
    "time = [162.22, # 1 core\n",
    "        55.61, # 2 core\n",
    "        42.85, # 3 core\n",
    "        35.35, # 4 core\n",
    "        30.82, # 6 core\n",
    "        24.45, # 8 core\n",
    "        21.93, # 12 core\n",
    "        19.72 # 16 core\n",
    "       ]"
   ]
  },
  {
   "cell_type": "markdown",
   "id": "e80a9342-26e8-4495-b721-0521d1e357ea",
   "metadata": {},
   "source": [
    "###### Calculations Dropdown"
   ]
  },
  {
   "cell_type": "code",
   "execution_count": null,
   "id": "bc628d6e-6e7d-448b-b181-8be9d822343a",
   "metadata": {},
   "outputs": [],
   "source": [
    "intra_node_statistics = intra_node_perf(serial_time, number_of_cores, time)"
   ]
  },
  {
   "cell_type": "code",
   "execution_count": null,
   "id": "7f1b3327-6b42-4461-ac79-09fad77f29ff",
   "metadata": {},
   "outputs": [],
   "source": [
    "intra_node_statistics.plot_efficiency_graph()"
   ]
  },
  {
   "cell_type": "code",
   "execution_count": null,
   "id": "279c8a9e-1682-456a-a76e-50070a733e1d",
   "metadata": {},
   "outputs": [],
   "source": [
    "intra_node_statistics.plot_time_graph()"
   ]
  },
  {
   "cell_type": "code",
   "execution_count": null,
   "id": "930fcd65-13b9-4f46-81c8-d63b65dc9523",
   "metadata": {},
   "outputs": [],
   "source": [
    "intra_node_statistics.intra_perf_table()"
   ]
  },
  {
   "cell_type": "markdown",
   "id": "6cea1a1a-e293-43fe-abc4-ee5baca3fbb7",
   "metadata": {},
   "source": [
    "## Summary diagram (radar plot)"
   ]
  },
  {
   "cell_type": "code",
   "execution_count": null,
   "id": "aeb92503-d96b-40fd-8d3a-a1add72fb1be",
   "metadata": {},
   "outputs": [],
   "source": [
    "summary_statistics = summary(core_perf_statistics,intra_node_statistics)\n",
    "summary_statistics.draw_radar()"
   ]
  },
  {
   "cell_type": "markdown",
   "id": "3e0499da-41c7-459f-9aec-94b5e9620d6b",
   "metadata": {},
   "source": [
    "By Ben Clark & Thomas Flynn"
   ]
  }
 ],
 "metadata": {
  "kernelspec": {
   "display_name": "Python 3 (ipykernel)",
   "language": "python",
   "name": "python3"
  },
  "language_info": {
   "codemirror_mode": {
    "name": "ipython",
    "version": 3
   },
   "file_extension": ".py",
   "mimetype": "text/x-python",
   "name": "python",
   "nbconvert_exporter": "python",
   "pygments_lexer": "ipython3",
   "version": "3.12.3"
  }
 },
 "nbformat": 4,
 "nbformat_minor": 5
}
