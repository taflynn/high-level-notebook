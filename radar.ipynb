{
 "cells": [
  {
   "cell_type": "code",
   "execution_count": null,
   "id": "7b48f641-197b-4d79-9e79-b096e1afbd1b",
   "metadata": {},
   "outputs": [],
   "source": [
    "from tools.core_table import core_perf\n",
    "from tools.intra_node import intra_node_perf\n",
    "from tools.summary_radar import summary"
   ]
  },
  {
   "cell_type": "markdown",
   "id": "e7ff6969-3190-4cf5-ac21-dd458c76d4e1",
   "metadata": {
    "jp-MarkdownHeadingCollapsed": true
   },
   "source": [
    "## Metrics"
   ]
  },
  {
   "cell_type": "code",
   "execution_count": null,
   "id": "221bb3df-9f3f-4249-aa73-fa29396a6bee",
   "metadata": {},
   "outputs": [],
   "source": [
    "# define rubric proportions\n",
    "core_proportion = None\n",
    "intraNode_proportion = None\n",
    "interNode_proportion = 0.8\n",
    "IO_proportion = 0.4\n",
    "GPU_porporion = 0.7"
   ]
  },
  {
   "cell_type": "markdown",
   "id": "14b1755c-4bf1-4239-a2c0-77c2a4d3ee3f",
   "metadata": {},
   "source": [
    "## Core"
   ]
  },
  {
   "cell_type": "markdown",
   "id": "a2b83940-d5b0-413a-8590-566349cdf35f",
   "metadata": {},
   "source": [
    "Target peak per core (Mflops/s) <br>\n",
    "Measured average application peak (Mflops/s) <br>\n",
    "Target bandwidth per core (MB/s) <br>\n",
    "Measured average bandwidth requirements (MB/s)"
   ]
  },
  {
   "cell_type": "code",
   "execution_count": null,
   "id": "9ca6a9f9-5046-45d1-b590-ea3abf613f4d",
   "metadata": {},
   "outputs": [],
   "source": [
    "# Target peak per core (Mflops/s)\n",
    "peak_perf_single_core = 7255.60\n",
    "# Measured average application peak (Mflops/s)\n",
    "measured_average_perf = 241.1913\n",
    "\n",
    "# Target bandwidth per core (MB/s)\n",
    "target_bw_per_core = 19506.62\n",
    "# Measured average bandwidth requirements (MB/s)\n",
    "measured_avg_bw_requirements = 18017.7017"
   ]
  },
  {
   "cell_type": "markdown",
   "id": "f314f4ab-e26b-4b30-8c49-1776c5751fe7",
   "metadata": {},
   "source": [
    "###### Calculations Dropdown"
   ]
  },
  {
   "cell_type": "code",
   "execution_count": null,
   "id": "4ddc6566-8363-478f-81f1-19a61f1971e4",
   "metadata": {},
   "outputs": [],
   "source": [
    "core_perf_statistics = core_perf(peak_perf_single_core,measured_average_perf,target_bw_per_core,measured_avg_bw_requirements)"
   ]
  },
  {
   "cell_type": "code",
   "execution_count": null,
   "id": "1e4e0ebb-d5e5-47b3-93ec-da137a42ad18",
   "metadata": {},
   "outputs": [],
   "source": [
    "core_perf_statistics.core_perf_table()"
   ]
  },
  {
   "cell_type": "markdown",
   "id": "bc68e7ed-7492-46fd-8725-03aca97ace8e",
   "metadata": {},
   "source": [
    "## Intra-node"
   ]
  },
  {
   "cell_type": "markdown",
   "id": "2e22a554-1e48-497e-bdb0-08d8614164c8",
   "metadata": {},
   "source": [
    "Enter serial time and times for each number of cores"
   ]
  },
  {
   "cell_type": "code",
   "execution_count": null,
   "id": "92695b5d-c3ec-48d1-934a-f3688244f006",
   "metadata": {},
   "outputs": [],
   "source": [
    "# Enter serial performance time (s)\n",
    "serial_time = 0.99\n",
    "\n",
    "# enter number of cores in each trial\n",
    "number_of_cores = [1,2,3,4,6,8,10,12,14,16,20,24,28]\n",
    "\n",
    "# Enter time for each number of cores (s)\n",
    "time = [1, # 1 core\n",
    "        0.5, # 2 core\n",
    "        0.34, # 3 core\n",
    "        0.25, # 4 core\n",
    "        0.18, # 6 core\n",
    "        0.13, # 8 core\n",
    "        0.11, # 10 core\n",
    "        0.09, # 12 core\n",
    "        0.08, # 14 core\n",
    "        0.075, # 16 core\n",
    "        0.077, # 20 core\n",
    "        0.1, # 24 core\n",
    "        0.15] # 28 core"
   ]
  },
  {
   "cell_type": "markdown",
   "id": "e80a9342-26e8-4495-b721-0521d1e357ea",
   "metadata": {},
   "source": [
    "###### Calculations Dropdown"
   ]
  },
  {
   "cell_type": "code",
   "execution_count": null,
   "id": "bc628d6e-6e7d-448b-b181-8be9d822343a",
   "metadata": {},
   "outputs": [],
   "source": [
    "intra_node_statistics = intra_node_perf(serial_time,number_of_cores,time)"
   ]
  },
  {
   "cell_type": "code",
   "execution_count": null,
   "id": "7f1b3327-6b42-4461-ac79-09fad77f29ff",
   "metadata": {},
   "outputs": [],
   "source": [
    "intra_node_statistics.plot_efficiency_graph()"
   ]
  },
  {
   "cell_type": "code",
   "execution_count": null,
   "id": "279c8a9e-1682-456a-a76e-50070a733e1d",
   "metadata": {},
   "outputs": [],
   "source": [
    "intra_node_statistics.plot_time_graph()"
   ]
  },
  {
   "cell_type": "markdown",
   "id": "6cea1a1a-e293-43fe-abc4-ee5baca3fbb7",
   "metadata": {},
   "source": [
    "## Summary diagram (radar plot)"
   ]
  },
  {
   "cell_type": "code",
   "execution_count": null,
   "id": "aeb92503-d96b-40fd-8d3a-a1add72fb1be",
   "metadata": {},
   "outputs": [],
   "source": [
    "summary_statistics = summary(core_perf_statistics,intra_node_statistics)\n",
    "summary_statistics.draw_radar()"
   ]
  },
  {
   "cell_type": "markdown",
   "id": "3e0499da-41c7-459f-9aec-94b5e9620d6b",
   "metadata": {},
   "source": [
    "By Ben Clark & Thomas Flynn"
   ]
  }
 ],
 "metadata": {
  "kernelspec": {
   "display_name": "Python 3 (ipykernel)",
   "language": "python",
   "name": "python3"
  },
  "language_info": {
   "codemirror_mode": {
    "name": "ipython",
    "version": 3
   },
   "file_extension": ".py",
   "mimetype": "text/x-python",
   "name": "python",
   "nbconvert_exporter": "python",
   "pygments_lexer": "ipython3",
   "version": "3.12.3"
  }
 },
 "nbformat": 4,
 "nbformat_minor": 5
}
